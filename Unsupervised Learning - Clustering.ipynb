{
 "cells": [
  {
   "cell_type": "markdown",
   "id": "47bce7bc",
   "metadata": {},
   "source": [
    "### Let's explore the fundamentals of unsupervised learning and implement the essential algorithms using scikit-learn and SciPy. "
   ]
  },
  {
   "cell_type": "code",
   "execution_count": 634,
   "id": "a53695e9",
   "metadata": {},
   "outputs": [],
   "source": [
    "# Importing useful libraries\n",
    "import pandas as pd\n",
    "import numpy as np\n",
    "import matplotlib.pyplot as plt\n",
    "import seaborn as sns"
   ]
  },
  {
   "cell_type": "code",
   "execution_count": 635,
   "id": "57237b67",
   "metadata": {},
   "outputs": [],
   "source": [
    "plt.style.use('ggplot')"
   ]
  },
  {
   "cell_type": "markdown",
   "id": "1c2e0ab6",
   "metadata": {},
   "source": [
    "# Unsupervised Learning\n",
    "<p><b>Unsupervised learning is a class of machine learning techniques for discovering patterns in data. For instance, finding the natural \"clusters\" of customers based on their purchase histories, or searching for patterns and correlations among these purchases, and using these patterns to express the data in a compressed form. These are examples of unsupervised learning techniques called \"clustering\" and \"dimension reduction\".</b></p>"
   ]
  },
  {
   "cell_type": "code",
   "execution_count": 636,
   "id": "9f4263ca",
   "metadata": {},
   "outputs": [],
   "source": [
    "# Load Iris Dataset\n",
    "from sklearn.datasets import load_iris"
   ]
  },
  {
   "cell_type": "code",
   "execution_count": 637,
   "id": "ee166a97",
   "metadata": {},
   "outputs": [],
   "source": [
    "iris = load_iris()"
   ]
  },
  {
   "cell_type": "code",
   "execution_count": 638,
   "id": "642907de",
   "metadata": {},
   "outputs": [
    {
     "name": "stdout",
     "output_type": "stream",
     "text": [
      "<class 'sklearn.utils.Bunch'>\n"
     ]
    }
   ],
   "source": [
    "print(type(iris))"
   ]
  },
  {
   "cell_type": "markdown",
   "id": "af6621e1",
   "metadata": {},
   "source": [
    "### Clustering 2D points\n",
    "<p><b>Let's create a KMeans model to find 3 clusters in Iris dataset. We have 150 rows and will divide into two as this will help us locate cluster labels for some new points</b><p>\n",
    "<p><u>Please note - we are finding 3 clusters because Iris contains three species of flowers i.e. <b>'setosa', 'versicolor', 'virginica'.</b></u></p>"
   ]
  },
  {
   "cell_type": "code",
   "execution_count": 639,
   "id": "c8b75dd6",
   "metadata": {},
   "outputs": [],
   "source": [
    "# Let's shuffle the data before splitting\n",
    "import random\n",
    "random.shuffle(iris.data)\n",
    "random.shuffle(iris.target)"
   ]
  },
  {
   "cell_type": "code",
   "execution_count": 640,
   "id": "3d2b360d",
   "metadata": {},
   "outputs": [],
   "source": [
    "iris_D1 = iris.data[0:60]\n",
    "iris_D1_T = iris.target[0:60]"
   ]
  },
  {
   "cell_type": "code",
   "execution_count": 641,
   "id": "f3b5bc87",
   "metadata": {},
   "outputs": [],
   "source": [
    "iris_D2 = iris.data[60:]\n",
    "iris_D2_T = iris.target[60:]"
   ]
  },
  {
   "cell_type": "code",
   "execution_count": 642,
   "id": "de524314",
   "metadata": {},
   "outputs": [],
   "source": [
    "# Import KMeans\n",
    "from sklearn.cluster import KMeans"
   ]
  },
  {
   "cell_type": "code",
   "execution_count": 643,
   "id": "2b973190",
   "metadata": {},
   "outputs": [],
   "source": [
    "# Create a KMeans instance with 3 clusters: model\n",
    "model = KMeans(n_clusters = 3)"
   ]
  },
  {
   "cell_type": "code",
   "execution_count": 644,
   "id": "397ecf5f",
   "metadata": {},
   "outputs": [
    {
     "data": {
      "text/plain": [
       "KMeans(n_clusters=3)"
      ]
     },
     "execution_count": 644,
     "metadata": {},
     "output_type": "execute_result"
    }
   ],
   "source": [
    "# Fit model to points\n",
    "model.fit(iris_D1)"
   ]
  },
  {
   "cell_type": "code",
   "execution_count": 645,
   "id": "465c5ff5",
   "metadata": {},
   "outputs": [],
   "source": [
    "# Determine the cluster labels of new_points: labels\n",
    "labels = model.predict(iris_D2)"
   ]
  },
  {
   "cell_type": "markdown",
   "id": "c67f005a",
   "metadata": {},
   "source": [
    "<p><b>0: Setosa, 1: Versicolor, 2: Virginica</b></p>"
   ]
  },
  {
   "cell_type": "code",
   "execution_count": 646,
   "id": "7295a2ed",
   "metadata": {},
   "outputs": [
    {
     "name": "stdout",
     "output_type": "stream",
     "text": [
      "[2 0 0 0 2 2 0 0 2 2 0 1 0 0 1 0 1 1 2 0 1 0 1 1 1 2 1 2 1 1 0 2 0 2 0 1 1\n",
      " 1 1 0 1 1 1 1 1 1 2 0 2 0 1 2 2 1 1 1 0 2 2 0 1 0 1 2 1 2 2 2 1 2 2 1 1 0\n",
      " 1 1 0 1 1 1 1 1 1 1 1 1 0 1 1 1]\n"
     ]
    }
   ],
   "source": [
    "print(labels)"
   ]
  },
  {
   "cell_type": "markdown",
   "id": "cf931b2b",
   "metadata": {},
   "source": [
    "### Inspect your clustering"
   ]
  },
  {
   "cell_type": "code",
   "execution_count": 647,
   "id": "a8c52c0e",
   "metadata": {},
   "outputs": [],
   "source": [
    "# Assign the columns (sepal length & sepal width) of iris_D2: xs and ys\n",
    "xs = iris_D2[:,0]\n",
    "ys = iris_D2[:,1]"
   ]
  },
  {
   "cell_type": "code",
   "execution_count": 648,
   "id": "b97a27fe",
   "metadata": {},
   "outputs": [],
   "source": [
    "# Make a scatter plot of xs and ys, using labels to define the colors\n",
    "# plt.scatter(xs, ys, c=labels, alpha=0.5)\n",
    "# sns.scatterplot(x=xs, y=ys, hue=labels, palette = 'deep')\n",
    "# plt.show()"
   ]
  },
  {
   "cell_type": "code",
   "execution_count": 649,
   "id": "33196a9f",
   "metadata": {},
   "outputs": [],
   "source": [
    "# Assign the cluster centers: centroids\n",
    "centroids = model.cluster_centers_"
   ]
  },
  {
   "cell_type": "code",
   "execution_count": 650,
   "id": "de0ec695",
   "metadata": {},
   "outputs": [],
   "source": [
    "# Assign the columns of centroids: centroids_x, centroids_y\n",
    "centroids_x = centroids[:,0]\n",
    "centroids_y = centroids[:,1]"
   ]
  },
  {
   "cell_type": "code",
   "execution_count": 651,
   "id": "9921d478",
   "metadata": {},
   "outputs": [
    {
     "data": {
      "image/png": "[encoded data removed]",
      "text/plain": [
       "<Figure size 432x288 with 1 Axes>"
      ]
     },
     "metadata": {},
     "output_type": "display_data"
    }
   ],
   "source": [
    "# Make a scatter plot of centroids_x and centroids_y\n",
    "_ = sns.scatterplot(x=xs, y=ys, hue=labels, palette = 'deep')\n",
    "_ = sns.scatterplot(x=centroids_x, y=centroids_y, marker='D', s=100)\n",
    "_ = plt.legend(loc='upper right')\n",
    "_ = plt.show()"
   ]
  },
  {
   "cell_type": "markdown",
   "id": "96c327df",
   "metadata": {},
   "source": [
    "# Evaluating a clustering\n",
    "<p><b>A direct approach is to compare the clusters with the iris species.</b></p>\n",
    "<p><b>Let's check whether the 3 clusters of iris samples have any correspondence to the iris species. The correspondence is described by <u>Cross Tabulation</u>. There is one column for each of the three species of iris: setosa, versicolor and virginica, and one row for each of the three cluster labels: 0, 1 and 2. The table shows the number of samples that have each possible cluster label/species combination.</b></p>"
   ]
  },
  {
   "cell_type": "code",
   "execution_count": 652,
   "id": "792d2d8d",
   "metadata": {
    "scrolled": false
   },
   "outputs": [],
   "source": [
    "species = []\n",
    "for x in iris_D2_T:\n",
    "    if x == 0:\n",
    "        species.append('Setosa')\n",
    "    elif x == 1:\n",
    "        species.append('Versicolor')\n",
    "    else:\n",
    "        species.append('Virginica')"
   ]
  },
  {
   "cell_type": "code",
   "execution_count": 653,
   "id": "217f2e49",
   "metadata": {},
   "outputs": [],
   "source": [
    "df = pd.DataFrame({'labels':  labels, 'species': species})"
   ]
  },
  {
   "cell_type": "code",
   "execution_count": 654,
   "id": "cb6f9fbf",
   "metadata": {},
   "outputs": [
    {
     "data": {
      "text/html": [
       "<div>\n",
       "<style scoped>\n",
       "    .dataframe tbody tr th:only-of-type {\n",
       "        vertical-align: middle;\n",
       "    }\n",
       "\n",
       "    .dataframe tbody tr th {\n",
       "        vertical-align: top;\n",
       "    }\n",
       "\n",
       "    .dataframe thead th {\n",
       "        text-align: right;\n",
       "    }\n",
       "</style>\n",
       "<table border=\"1\" class=\"dataframe\">\n",
       "  <thead>\n",
       "    <tr style=\"text-align: right;\">\n",
       "      <th>species</th>\n",
       "      <th>Setosa</th>\n",
       "      <th>Versicolor</th>\n",
       "      <th>Virginica</th>\n",
       "    </tr>\n",
       "    <tr>\n",
       "      <th>labels</th>\n",
       "      <th></th>\n",
       "      <th></th>\n",
       "      <th></th>\n",
       "    </tr>\n",
       "  </thead>\n",
       "  <tbody>\n",
       "    <tr>\n",
       "      <th>0</th>\n",
       "      <td>10</td>\n",
       "      <td>6</td>\n",
       "      <td>7</td>\n",
       "    </tr>\n",
       "    <tr>\n",
       "      <th>1</th>\n",
       "      <td>18</td>\n",
       "      <td>14</td>\n",
       "      <td>13</td>\n",
       "    </tr>\n",
       "    <tr>\n",
       "      <th>2</th>\n",
       "      <td>8</td>\n",
       "      <td>5</td>\n",
       "      <td>9</td>\n",
       "    </tr>\n",
       "  </tbody>\n",
       "</table>\n",
       "</div>"
      ],
      "text/plain": [
       "species  Setosa  Versicolor  Virginica\n",
       "labels                                \n",
       "0            10           6          7\n",
       "1            18          14         13\n",
       "2             8           5          9"
      ]
     },
     "execution_count": 654,
     "metadata": {},
     "output_type": "execute_result"
    }
   ],
   "source": [
    "ct = pd.crosstab(df['labels'], df['species'])\n",
    "ct"
   ]
  },
  {
   "cell_type": "markdown",
   "id": "b93519d0",
   "metadata": {},
   "source": [
    "<p><b>Cross tabulations like these provide great insights into which sort of samples are in which cluster. But in most datasets, the samples are not labelled by species. How can the quality of a clustering be evaluated in these cases?</b></p>"
   ]
  },
  {
   "cell_type": "markdown",
   "id": "605a3178",
   "metadata": {},
   "source": [
    "### Measuring clustering quality\n",
    "<ol>\n",
    "    <li>Using only samples and their cluster labels</li>\n",
    "    <li>A good clustering has tight clusters</li>\n",
    "    <li>Samples in each cluster bunched together</li>\n",
    "</ol>\n",
    "\n",
    "### Inertia measures clustering quality\n",
    "\n",
    "<ol>\n",
    "    <li>Measures how spread out the clusters are (lower is better)</li>\n",
    "    <li>Distance from each sample to centroid of its cluster</li>\n",
    "    <li>After fit(), available as attribute inertia_</li>\n",
    "    <li>k-means attempts to minimize the inertia when chosing clusters</li>\n",
    "</ol>"
   ]
  },
  {
   "cell_type": "code",
   "execution_count": 655,
   "id": "a1da47d8",
   "metadata": {},
   "outputs": [
    {
     "name": "stdout",
     "output_type": "stream",
     "text": [
      "Inertia : 7.553217592592596\n"
     ]
    }
   ],
   "source": [
    "print(\"Inertia : {}\".format(model.inertia_))"
   ]
  },
  {
   "cell_type": "markdown",
   "id": "119e0ad1",
   "metadata": {},
   "source": [
    "### The number of clusters\n",
    "<ol>\n",
    "    <li>Clusterings of the iris dataset with different numbers of clusters</li>\n",
    "    <li>More clusters means lower inertia</li>\n",
    "    <li>What is the best number of clusters?</li>\n",
    "<ol>"
   ]
  },
  {
   "cell_type": "markdown",
   "id": "0a8e230f",
   "metadata": {},
   "source": [
    "### How many clusters to choose?\n",
    "<ol>\n",
    "<li>A good clustering has tight\n",
    "    clusters (so low inertia)</li>\n",
    "    <li>...but not too many clusters!</li>\n",
    "<li>Choose an \"elbow\" in the\n",
    "    inertia plot</li>\n",
    "<li>Where inertia begins to\n",
    "    decrease more slowly</li>\n",
    "<li><b>E.g., for iris dataset, 3 is a\n",
    "    good choice</b></li>\n",
    "</ol>"
   ]
  },
  {
   "cell_type": "code",
   "execution_count": 656,
   "id": "e4fdf6dc",
   "metadata": {},
   "outputs": [
    {
     "data": {
      "image/png": "[encoded data removed]",
      "text/plain": [
       "<Figure size 432x288 with 1 Axes>"
      ]
     },
     "metadata": {},
     "output_type": "display_data"
    }
   ],
   "source": [
    "ks = range(1, 6)\n",
    "inertias = []\n",
    "\n",
    "for k in ks:\n",
    "    # Create a KMeans instance with k clusters: model\n",
    "    model = KMeans(n_clusters = k)\n",
    "    \n",
    "    # Fit model to samples\n",
    "    model.fit(iris_D1)\n",
    "    \n",
    "    # Append the inertia to the list of inertias\n",
    "    inertias.append(model.inertia_)\n",
    "    \n",
    "# Plot ks vs inertias\n",
    "_ = plt.plot(ks, inertias, '-o')\n",
    "_ = plt.xlabel('number of clusters, k')\n",
    "_ = plt.ylabel('inertia')\n",
    "_ = plt.xticks(ks)\n",
    "_ = plt.show()"
   ]
  },
  {
   "cell_type": "markdown",
   "id": "afd93261",
   "metadata": {},
   "source": [
    "# Transforming features for better clusterings\n",
    "<p><b>Let's look now at another dataset, the Piedmont wines dataset. It contains 178 samples of red wine from the Piedmont region of Italy. The features measure chemical composition (like alcohol content) and visual properties like color intensity. The samples come from 3 distinct varieties of wine (Barbera, Barolo and Grignolino).<b><p>"
   ]
  },
  {
   "cell_type": "code",
   "execution_count": 657,
   "id": "f3c5c17f",
   "metadata": {},
   "outputs": [],
   "source": [
    "wines_df = pd.read_csv('../Datasets/wine.csv')"
   ]
  },
  {
   "cell_type": "code",
   "execution_count": 658,
   "id": "317bf3aa",
   "metadata": {},
   "outputs": [
    {
     "data": {
      "text/html": [
       "<div>\n",
       "<style scoped>\n",
       "    .dataframe tbody tr th:only-of-type {\n",
       "        vertical-align: middle;\n",
       "    }\n",
       "\n",
       "    .dataframe tbody tr th {\n",
       "        vertical-align: top;\n",
       "    }\n",
       "\n",
       "    .dataframe thead th {\n",
       "        text-align: right;\n",
       "    }\n",
       "</style>\n",
       "<table border=\"1\" class=\"dataframe\">\n",
       "  <thead>\n",
       "    <tr style=\"text-align: right;\">\n",
       "      <th></th>\n",
       "      <th>class_label</th>\n",
       "      <th>class_name</th>\n",
       "      <th>alcohol</th>\n",
       "      <th>malic_acid</th>\n",
       "      <th>ash</th>\n",
       "      <th>alcalinity_of_ash</th>\n",
       "      <th>magnesium</th>\n",
       "      <th>total_phenols</th>\n",
       "      <th>flavanoids</th>\n",
       "      <th>nonflavanoid_phenols</th>\n",
       "      <th>proanthocyanins</th>\n",
       "      <th>color_intensity</th>\n",
       "      <th>hue</th>\n",
       "      <th>od280</th>\n",
       "      <th>proline</th>\n",
       "    </tr>\n",
       "  </thead>\n",
       "  <tbody>\n",
       "    <tr>\n",
       "      <th>0</th>\n",
       "      <td>1</td>\n",
       "      <td>Barolo</td>\n",
       "      <td>14.23</td>\n",
       "      <td>1.71</td>\n",
       "      <td>2.43</td>\n",
       "      <td>15.6</td>\n",
       "      <td>127</td>\n",
       "      <td>2.80</td>\n",
       "      <td>3.06</td>\n",
       "      <td>0.28</td>\n",
       "      <td>2.29</td>\n",
       "      <td>5.64</td>\n",
       "      <td>1.04</td>\n",
       "      <td>3.92</td>\n",
       "      <td>1065</td>\n",
       "    </tr>\n",
       "    <tr>\n",
       "      <th>1</th>\n",
       "      <td>1</td>\n",
       "      <td>Barolo</td>\n",
       "      <td>13.20</td>\n",
       "      <td>1.78</td>\n",
       "      <td>2.14</td>\n",
       "      <td>11.2</td>\n",
       "      <td>100</td>\n",
       "      <td>2.65</td>\n",
       "      <td>2.76</td>\n",
       "      <td>0.26</td>\n",
       "      <td>1.28</td>\n",
       "      <td>4.38</td>\n",
       "      <td>1.05</td>\n",
       "      <td>3.40</td>\n",
       "      <td>1050</td>\n",
       "    </tr>\n",
       "    <tr>\n",
       "      <th>2</th>\n",
       "      <td>1</td>\n",
       "      <td>Barolo</td>\n",
       "      <td>13.16</td>\n",
       "      <td>2.36</td>\n",
       "      <td>2.67</td>\n",
       "      <td>18.6</td>\n",
       "      <td>101</td>\n",
       "      <td>2.80</td>\n",
       "      <td>3.24</td>\n",
       "      <td>0.30</td>\n",
       "      <td>2.81</td>\n",
       "      <td>5.68</td>\n",
       "      <td>1.03</td>\n",
       "      <td>3.17</td>\n",
       "      <td>1185</td>\n",
       "    </tr>\n",
       "    <tr>\n",
       "      <th>3</th>\n",
       "      <td>1</td>\n",
       "      <td>Barolo</td>\n",
       "      <td>14.37</td>\n",
       "      <td>1.95</td>\n",
       "      <td>2.50</td>\n",
       "      <td>16.8</td>\n",
       "      <td>113</td>\n",
       "      <td>3.85</td>\n",
       "      <td>3.49</td>\n",
       "      <td>0.24</td>\n",
       "      <td>2.18</td>\n",
       "      <td>7.80</td>\n",
       "      <td>0.86</td>\n",
       "      <td>3.45</td>\n",
       "      <td>1480</td>\n",
       "    </tr>\n",
       "    <tr>\n",
       "      <th>4</th>\n",
       "      <td>1</td>\n",
       "      <td>Barolo</td>\n",
       "      <td>13.24</td>\n",
       "      <td>2.59</td>\n",
       "      <td>2.87</td>\n",
       "      <td>21.0</td>\n",
       "      <td>118</td>\n",
       "      <td>2.80</td>\n",
       "      <td>2.69</td>\n",
       "      <td>0.39</td>\n",
       "      <td>1.82</td>\n",
       "      <td>4.32</td>\n",
       "      <td>1.04</td>\n",
       "      <td>2.93</td>\n",
       "      <td>735</td>\n",
       "    </tr>\n",
       "  </tbody>\n",
       "</table>\n",
       "</div>"
      ],
      "text/plain": [
       "   class_label class_name  alcohol  malic_acid   ash  alcalinity_of_ash  \\\n",
       "0            1     Barolo    14.23        1.71  2.43               15.6   \n",
       "1            1     Barolo    13.20        1.78  2.14               11.2   \n",
       "2            1     Barolo    13.16        2.36  2.67               18.6   \n",
       "3            1     Barolo    14.37        1.95  2.50               16.8   \n",
       "4            1     Barolo    13.24        2.59  2.87               21.0   \n",
       "\n",
       "   magnesium  total_phenols  flavanoids  nonflavanoid_phenols  \\\n",
       "0        127           2.80        3.06                  0.28   \n",
       "1        100           2.65        2.76                  0.26   \n",
       "2        101           2.80        3.24                  0.30   \n",
       "3        113           3.85        3.49                  0.24   \n",
       "4        118           2.80        2.69                  0.39   \n",
       "\n",
       "   proanthocyanins  color_intensity   hue  od280  proline  \n",
       "0             2.29             5.64  1.04   3.92     1065  \n",
       "1             1.28             4.38  1.05   3.40     1050  \n",
       "2             2.81             5.68  1.03   3.17     1185  \n",
       "3             2.18             7.80  0.86   3.45     1480  \n",
       "4             1.82             4.32  1.04   2.93      735  "
      ]
     },
     "execution_count": 658,
     "metadata": {},
     "output_type": "execute_result"
    }
   ],
   "source": [
    "wines_df.head()"
   ]
  },
  {
   "cell_type": "code",
   "execution_count": 659,
   "id": "cd4ec6ee",
   "metadata": {},
   "outputs": [],
   "source": [
    "samples = np.array(wines_df.drop(columns=['class_label','class_name']))"
   ]
  },
  {
   "cell_type": "code",
   "execution_count": 660,
   "id": "534e68bc",
   "metadata": {},
   "outputs": [],
   "source": [
    "# Clustering the wines\n",
    "wines_model = KMeans(n_clusters=3)\n",
    "wines_labels = wines_model.fit_predict(samples)"
   ]
  },
  {
   "cell_type": "code",
   "execution_count": 661,
   "id": "8193beda",
   "metadata": {},
   "outputs": [],
   "source": [
    "df_wine_ = pd.DataFrame({'wine_label': wines_labels, 'varities': wines_df['class_name']})"
   ]
  },
  {
   "cell_type": "code",
   "execution_count": 662,
   "id": "b1728f7a",
   "metadata": {},
   "outputs": [
    {
     "data": {
      "text/html": [
       "<div>\n",
       "<style scoped>\n",
       "    .dataframe tbody tr th:only-of-type {\n",
       "        vertical-align: middle;\n",
       "    }\n",
       "\n",
       "    .dataframe tbody tr th {\n",
       "        vertical-align: top;\n",
       "    }\n",
       "\n",
       "    .dataframe thead th {\n",
       "        text-align: right;\n",
       "    }\n",
       "</style>\n",
       "<table border=\"1\" class=\"dataframe\">\n",
       "  <thead>\n",
       "    <tr style=\"text-align: right;\">\n",
       "      <th>varities</th>\n",
       "      <th>Barbera</th>\n",
       "      <th>Barolo</th>\n",
       "      <th>Grignolino</th>\n",
       "    </tr>\n",
       "    <tr>\n",
       "      <th>wine_label</th>\n",
       "      <th></th>\n",
       "      <th></th>\n",
       "      <th></th>\n",
       "    </tr>\n",
       "  </thead>\n",
       "  <tbody>\n",
       "    <tr>\n",
       "      <th>0</th>\n",
       "      <td>29</td>\n",
       "      <td>13</td>\n",
       "      <td>20</td>\n",
       "    </tr>\n",
       "    <tr>\n",
       "      <th>1</th>\n",
       "      <td>0</td>\n",
       "      <td>46</td>\n",
       "      <td>1</td>\n",
       "    </tr>\n",
       "    <tr>\n",
       "      <th>2</th>\n",
       "      <td>19</td>\n",
       "      <td>0</td>\n",
       "      <td>50</td>\n",
       "    </tr>\n",
       "  </tbody>\n",
       "</table>\n",
       "</div>"
      ],
      "text/plain": [
       "varities    Barbera  Barolo  Grignolino\n",
       "wine_label                             \n",
       "0                29      13          20\n",
       "1                 0      46           1\n",
       "2                19       0          50"
      ]
     },
     "execution_count": 662,
     "metadata": {},
     "output_type": "execute_result"
    }
   ],
   "source": [
    "wine_ct = pd.crosstab(df_wine_['wine_label'], df_wine_['varities'])\n",
    "wine_ct"
   ]
  },
  {
   "cell_type": "markdown",
   "id": "0de0f1c4",
   "metadata": {},
   "source": [
    "<p><b>The KMeans clusters don't correspond well with the wine varieties.</b></p>"
   ]
  },
  {
   "cell_type": "markdown",
   "id": "1c5e786d",
   "metadata": {},
   "source": [
    "### Feature variances\n",
    "<ul>\n",
    "<li>The wine features have very different variances!</li>\n",
    "<li>Variance of a feature measures spread of its values</li>\n",
    "    <li><b>For example:</b> the malic acid feature has a higher variance than the od280 feature</li>\n",
    "</ul>"
   ]
  },
  {
   "cell_type": "code",
   "execution_count": 663,
   "id": "3f8e9441",
   "metadata": {},
   "outputs": [
    {
     "data": {
      "text/plain": [
       "class_label                 0.600679\n",
       "alcohol                     0.659062\n",
       "malic_acid                  1.248015\n",
       "ash                         0.075265\n",
       "alcalinity_of_ash          11.152686\n",
       "magnesium                 203.989335\n",
       "total_phenols               0.391690\n",
       "flavanoids                  0.997719\n",
       "nonflavanoid_phenols        0.015489\n",
       "proanthocyanins             0.327595\n",
       "color_intensity             5.374449\n",
       "hue                         0.052245\n",
       "od280                       0.504086\n",
       "proline                 99166.717355\n",
       "dtype: float64"
      ]
     },
     "execution_count": 663,
     "metadata": {},
     "output_type": "execute_result"
    }
   ],
   "source": [
    "wines_df.var(numeric_only=True)"
   ]
  },
  {
   "cell_type": "markdown",
   "id": "6aacba45",
   "metadata": {},
   "source": [
    "### StandardScaler\n",
    "<ul>\n",
    "    <li>In kmeans: feature variance = feature influence</li>\n",
    "    <li><u>StandardScaler</u> transforms each feature to have mean 0 and variance 1</li>\n",
    "    <li>Features are said to be \"standardized\"</li>\n",
    "</ul>"
   ]
  },
  {
   "cell_type": "code",
   "execution_count": 664,
   "id": "3a989cb5",
   "metadata": {},
   "outputs": [
    {
     "data": {
      "text/plain": [
       "Pipeline(steps=[('standardscaler', StandardScaler()),\n",
       "                ('kmeans', KMeans(n_clusters=3))])"
      ]
     },
     "execution_count": 664,
     "metadata": {},
     "output_type": "execute_result"
    }
   ],
   "source": [
    "# Pipelines combine multiple steps\n",
    "from sklearn.preprocessing import StandardScaler\n",
    "from sklearn.cluster import KMeans\n",
    "from sklearn.pipeline import make_pipeline\n",
    "\n",
    "scaler = StandardScaler()\n",
    "\n",
    "kmeans = KMeans(n_clusters=3)\n",
    "\n",
    "pipeline = make_pipeline(scaler, kmeans)\n",
    "\n",
    "pipeline.fit(samples)"
   ]
  },
  {
   "cell_type": "code",
   "execution_count": 665,
   "id": "588be03e",
   "metadata": {},
   "outputs": [],
   "source": [
    "new_labels_wine = pipeline.predict(samples)"
   ]
  },
  {
   "cell_type": "code",
   "execution_count": 666,
   "id": "40c7cc0a",
   "metadata": {},
   "outputs": [],
   "source": [
    "df_wine_std = pd.DataFrame({'wine_label': new_labels_wine, 'varities': wines_df['class_name']})"
   ]
  },
  {
   "cell_type": "code",
   "execution_count": 667,
   "id": "1f38d919",
   "metadata": {},
   "outputs": [
    {
     "data": {
      "text/html": [
       "<div>\n",
       "<style scoped>\n",
       "    .dataframe tbody tr th:only-of-type {\n",
       "        vertical-align: middle;\n",
       "    }\n",
       "\n",
       "    .dataframe tbody tr th {\n",
       "        vertical-align: top;\n",
       "    }\n",
       "\n",
       "    .dataframe thead th {\n",
       "        text-align: right;\n",
       "    }\n",
       "</style>\n",
       "<table border=\"1\" class=\"dataframe\">\n",
       "  <thead>\n",
       "    <tr style=\"text-align: right;\">\n",
       "      <th>varities</th>\n",
       "      <th>Barbera</th>\n",
       "      <th>Barolo</th>\n",
       "      <th>Grignolino</th>\n",
       "    </tr>\n",
       "    <tr>\n",
       "      <th>wine_label</th>\n",
       "      <th></th>\n",
       "      <th></th>\n",
       "      <th></th>\n",
       "    </tr>\n",
       "  </thead>\n",
       "  <tbody>\n",
       "    <tr>\n",
       "      <th>0</th>\n",
       "      <td>0</td>\n",
       "      <td>0</td>\n",
       "      <td>65</td>\n",
       "    </tr>\n",
       "    <tr>\n",
       "      <th>1</th>\n",
       "      <td>48</td>\n",
       "      <td>0</td>\n",
       "      <td>3</td>\n",
       "    </tr>\n",
       "    <tr>\n",
       "      <th>2</th>\n",
       "      <td>0</td>\n",
       "      <td>59</td>\n",
       "      <td>3</td>\n",
       "    </tr>\n",
       "  </tbody>\n",
       "</table>\n",
       "</div>"
      ],
      "text/plain": [
       "varities    Barbera  Barolo  Grignolino\n",
       "wine_label                             \n",
       "0                 0       0          65\n",
       "1                48       0           3\n",
       "2                 0      59           3"
      ]
     },
     "execution_count": 667,
     "metadata": {},
     "output_type": "execute_result"
    }
   ],
   "source": [
    "wine_ct_std = pd.crosstab(df_wine_std['wine_label'], df_wine_std['varities'])\n",
    "wine_ct_std"
   ]
  },
  {
   "cell_type": "markdown",
   "id": "df7de785",
   "metadata": {},
   "source": [
    "<p><b>Checking the correspondence between the cluster labels and the wine varieties reveals that this new clustering, incorporating standardization, is fantastic. Its three clusters correspond almost exactly to the three wine varieties.</b></p>"
   ]
  },
  {
   "cell_type": "markdown",
   "id": "1db2b465",
   "metadata": {},
   "source": [
    "# Visualizing hierarchies\n",
    "<p><b>There are two unsupervised learning techniques for visualization: t-SNE and hierarchical clustering. t-SNE</b></p>"
   ]
  },
  {
   "cell_type": "markdown",
   "id": "d95da2f6",
   "metadata": {},
   "source": [
    "### Visualizations communicate insight\n",
    "<ol>\n",
    "    <li>\"t-SNE\" : Creates a 2D map of a dataset</li>\n",
    "    <li>\"Hierarchical clustering\"</li>\n",
    " </ol>"
   ]
  },
  {
   "attachments": {
    "Capture-2.JPG": {
     "image/jpeg": "[encoded data removed]"
    },
    "Capture.JPG": {
     "image/jpeg": "[encoded data removed]"
    }
   },
   "cell_type": "markdown",
   "id": "89eede06",
   "metadata": {},
   "source": [
    "### A hierarchy of groups\n",
    "<p><b>We've already seen many hierarchical clusterings in the real world. For example, living things can be organized into small narrow groups, like humans, apes, snakes and lizards, or into larger, broader groups like mammals and reptiles, or even broader groups like animals and plants. <u>These groups are contained in one another, and form a hierarchy. Analogously, hierarchical clustering arranges samples into a hierarchy of clusters.</u></b></p>\n",
    "\n",
    "![Capture.JPG](attachment:Capture.JPG)\n",
    "\n",
    "<p><b>Hierarchical clustering can organize any sort of data into a hierarchy, not just samples of plants and animals.</b></p>\n",
    "\n",
    "<p><b>Let's explore Eurovision scoring dataset,describing how countries scored performances at the Eurovision 2016 song contest.</b></p>\n",
    "\n",
    "#### Eurovision scoring dataset\n",
    "<ol>\n",
    "    <li>Countries gave scores to songs performed at the Eurovision 2016</li>\n",
    "    <li>2D array of scores</li>\n",
    "    <li>Rows are countries, columns are songs</li>\n",
    "</ol>\n",
    "\n",
    "#### Hierarchical clustering of voting countries\n",
    "<p><b>The result of applying hierarchical clustering to the Eurovision scores can be visualized as a tree-like diagram called a <u>\"dendrogram\"</u>.</b></p>\n",
    "\n",
    "![Capture-2.JPG](attachment:Capture-2.JPG)\n",
    "\n",
    "<p><b>This single picture reveals a great deal of information about the voting behavior of countries at the Eurovision. The dendrogram groups the countries into larger and larger clusters, and many of these clusters are immediately recognizable as containing countries that are close to one another geographically, or that have close cultural or political ties, or that belong to single language group. So hierarchical clustering can produce great visualizations.</b></p>\n",
    "<p><b>Hierarchical clustering proceeds in steps. In the beginning, every country is its own cluster - so there are as many clusters as there are countries! At each step, the two closest clusters are merged. This decreases the number of clusters, and eventually, there is only one cluster left, and it contains all the countries. This process is actually a particular type of hierarchical clustering called \"agglomerative clustering\" - there is also \"divisive clustering\", which works the other way around.</b></p>\n",
    "<p><b>The entire process of the hierarchical clustering is encoded in the dendrogram. At the bottom, each country is in a cluster of its own. The clustering then proceeds from the bottom up. Clusters are represented as vertical lines, and a joining of vertical lines indicates a merging of clusters.</b></p>"
   ]
  },
  {
   "cell_type": "markdown",
   "id": "46c416da",
   "metadata": {},
   "source": [
    "### Hierarchical clustering with SciPy\n",
    "<p><b>SciPy linkage() function performs hierarchical clustering on an array of samples. Use the linkage() function to obtain a hierarchical clustering of the grain samples, and use dendrogram() to visualize the result. A sample of the grain measurements is provided in the array samples, while the variety of each grain sample is given by the list varieties.</b></p>"
   ]
  },
  {
   "cell_type": "code",
   "execution_count": 668,
   "id": "c97efb7b",
   "metadata": {},
   "outputs": [],
   "source": [
    "seed_samples = [[14.88  , 14.57  ,  0.8811,  5.554 ,  3.333 ,  1.018 ,  4.956 ],\n",
    "       [14.69  , 14.49  ,  0.8799,  5.563 ,  3.259 ,  3.586 ,  5.219 ],\n",
    "       [14.03  , 14.16  ,  0.8796,  5.438 ,  3.201 ,  1.717 ,  5.001 ],\n",
    "       [13.99  , 13.83  ,  0.9183,  5.119 ,  3.383 ,  5.234 ,  4.781 ],\n",
    "       [14.11  , 14.26  ,  0.8722,  5.52  ,  3.168 ,  2.688 ,  5.219 ],\n",
    "       [13.02  , 13.76  ,  0.8641,  5.395 ,  3.026 ,  3.373 ,  4.825 ],\n",
    "       [15.49  , 14.94  ,  0.8724,  5.757 ,  3.371 ,  3.412 ,  5.228 ],\n",
    "       [16.2   , 15.27  ,  0.8734,  5.826 ,  3.464 ,  2.823 ,  5.527 ],\n",
    "       [13.5   , 13.85  ,  0.8852,  5.351 ,  3.158 ,  2.249 ,  5.176 ],\n",
    "       [15.36  , 14.76  ,  0.8861,  5.701 ,  3.393 ,  1.367 ,  5.132 ],\n",
    "       [15.78  , 14.91  ,  0.8923,  5.674 ,  3.434 ,  5.593 ,  5.136 ],\n",
    "       [14.46  , 14.35  ,  0.8818,  5.388 ,  3.377 ,  2.802 ,  5.044 ],\n",
    "       [11.23  , 12.63  ,  0.884 ,  4.902 ,  2.879 ,  2.269 ,  4.703 ],\n",
    "       [14.34  , 14.37  ,  0.8726,  5.63  ,  3.19  ,  1.313 ,  5.15  ],\n",
    "       [16.84  , 15.67  ,  0.8623,  5.998 ,  3.484 ,  4.675 ,  5.877 ],\n",
    "       [17.32  , 15.91  ,  0.8599,  6.064 ,  3.403 ,  3.824 ,  5.922 ],\n",
    "       [18.72  , 16.19  ,  0.8977,  6.006 ,  3.857 ,  5.324 ,  5.879 ],\n",
    "       [18.88  , 16.26  ,  0.8969,  6.084 ,  3.764 ,  1.649 ,  6.109 ],\n",
    "       [18.76  , 16.2   ,  0.8984,  6.172 ,  3.796 ,  3.12  ,  6.053 ],\n",
    "       [19.31  , 16.59  ,  0.8815,  6.341 ,  3.81  ,  3.477 ,  6.238 ],\n",
    "       [17.99  , 15.86  ,  0.8992,  5.89  ,  3.694 ,  2.068 ,  5.837 ],\n",
    "       [18.85  , 16.17  ,  0.9056,  6.152 ,  3.806 ,  2.843 ,  6.2   ],\n",
    "       [19.38  , 16.72  ,  0.8716,  6.303 ,  3.791 ,  3.678 ,  5.965 ],\n",
    "       [18.96  , 16.2   ,  0.9077,  6.051 ,  3.897 ,  4.334 ,  5.75  ],\n",
    "       [18.14  , 16.12  ,  0.8772,  6.059 ,  3.563 ,  3.619 ,  6.011 ],\n",
    "       [18.65  , 16.41  ,  0.8698,  6.285 ,  3.594 ,  4.391 ,  6.102 ],\n",
    "       [18.94  , 16.32  ,  0.8942,  6.144 ,  3.825 ,  2.908 ,  5.949 ],\n",
    "       [17.36  , 15.76  ,  0.8785,  6.145 ,  3.574 ,  3.526 ,  5.971 ],\n",
    "       [13.32  , 13.94  ,  0.8613,  5.541 ,  3.073 ,  7.035 ,  5.44  ],\n",
    "       [11.43  , 13.13  ,  0.8335,  5.176 ,  2.719 ,  2.221 ,  5.132 ],\n",
    "       [12.01  , 13.52  ,  0.8249,  5.405 ,  2.776 ,  6.992 ,  5.27  ],\n",
    "       [11.34  , 12.87  ,  0.8596,  5.053 ,  2.849 ,  3.347 ,  5.003 ],\n",
    "       [12.02  , 13.33  ,  0.8503,  5.35  ,  2.81  ,  4.271 ,  5.308 ],\n",
    "       [12.44  , 13.59  ,  0.8462,  5.319 ,  2.897 ,  4.924 ,  5.27  ],\n",
    "       [11.55  , 13.1   ,  0.8455,  5.167 ,  2.845 ,  6.715 ,  4.956 ],\n",
    "       [11.26  , 13.01  ,  0.8355,  5.186 ,  2.71  ,  5.335 ,  5.092 ],\n",
    "       [12.46  , 13.41  ,  0.8706,  5.236 ,  3.017 ,  4.987 ,  5.147 ],\n",
    "       [11.81  , 13.45  ,  0.8198,  5.413 ,  2.716 ,  4.898 ,  5.352 ],\n",
    "       [11.27  , 12.86  ,  0.8563,  5.091 ,  2.804 ,  3.985 ,  5.001 ],\n",
    "       [12.79  , 13.53  ,  0.8786,  5.224 ,  3.054 ,  5.483 ,  4.958 ],\n",
    "       [12.67  , 13.32  ,  0.8977,  4.984 ,  3.135 ,  2.3   ,  4.745 ],\n",
    "       [11.23  , 12.88  ,  0.8511,  5.14  ,  2.795 ,  4.325 ,  5.003 ]]"
   ]
  },
  {
   "cell_type": "code",
   "execution_count": 669,
   "id": "8b402f4a",
   "metadata": {},
   "outputs": [],
   "source": [
    "seed_samples = np.array(seed_samples)"
   ]
  },
  {
   "cell_type": "code",
   "execution_count": 670,
   "id": "f46501c7",
   "metadata": {},
   "outputs": [],
   "source": [
    "varieties = [ 'Kama wheat', 'Kama wheat', 'Kama wheat', 'Kama wheat', 'Kama wheat', 'Kama wheat', 'Kama wheat',\\\n",
    " 'Kama wheat', 'Kama wheat', 'Kama wheat', 'Kama wheat', 'Kama wheat', 'Kama wheat', 'Rosa wheat', 'Rosa wheat', 'Rosa wheat',\\\n",
    " 'Rosa wheat', 'Rosa wheat', 'Rosa wheat', 'Rosa wheat', 'Rosa wheat', 'Rosa wheat', 'Rosa wheat', 'Rosa wheat', 'Rosa wheat',\\\n",
    " 'Rosa wheat', 'Rosa wheat', 'Canadian wheat', 'Canadian wheat', 'Canadian wheat', 'Canadian wheat', 'Canadian wheat',\\\n",
    " 'Canadian wheat', 'Canadian wheat', 'Canadian wheat', 'Canadian wheat', 'Canadian wheat', 'Canadian wheat', 'Canadian wheat',\\\n",
    " 'Canadian wheat', 'Canadian wheat','Kama wheat']"
   ]
  },
  {
   "cell_type": "code",
   "execution_count": 671,
   "id": "9ce235e6",
   "metadata": {},
   "outputs": [],
   "source": [
    "# Perform the necessary imports\n",
    "from scipy.cluster.hierarchy import linkage, dendrogram"
   ]
  },
  {
   "cell_type": "code",
   "execution_count": 672,
   "id": "8ae12b9e",
   "metadata": {},
   "outputs": [],
   "source": [
    "# Calculate the linkage: mergings\n",
    "mergings = linkage(seed_samples, method='complete')"
   ]
  },
  {
   "cell_type": "code",
   "execution_count": 673,
   "id": "950e1e05",
   "metadata": {},
   "outputs": [
    {
     "data": {
      "image/png": "[encoded data removed]",
      "text/plain": [
       "<Figure size 792x576 with 1 Axes>"
      ]
     },
     "metadata": {},
     "output_type": "display_data"
    }
   ],
   "source": [
    "# Plot the dendrogram, using varieties as labels\n",
    "plt.figure(figsize=(11,8))\n",
    "dendrogram(mergings,\n",
    "           labels=varieties,\n",
    "           leaf_rotation=90,\n",
    "           leaf_font_size=12,\n",
    ")\n",
    "\n",
    "plt.show()"
   ]
  },
  {
   "cell_type": "markdown",
   "id": "21c211d1",
   "metadata": {},
   "source": [
    "# Cluster labels in hierarchical clustering"
   ]
  },
  {
   "cell_type": "markdown",
   "id": "f62bb685",
   "metadata": {},
   "source": [
    "### Different linkage, different hierarchical clustering!"
   ]
  },
  {
   "cell_type": "code",
   "execution_count": 674,
   "id": "c277b30b",
   "metadata": {},
   "outputs": [],
   "source": [
    "# Calculate the linkage: mergings\n",
    "mergings_sing = linkage(seed_samples, method='single')"
   ]
  },
  {
   "cell_type": "code",
   "execution_count": 675,
   "id": "a46223ed",
   "metadata": {},
   "outputs": [
    {
     "data": {
      "image/png": "[encoded data removed]",
      "text/plain": [
       "<Figure size 792x576 with 1 Axes>"
      ]
     },
     "metadata": {},
     "output_type": "display_data"
    }
   ],
   "source": [
    "# Plot the dendrogram\n",
    "plt.figure(figsize=(11,8))\n",
    "dendrogram(mergings_sing, labels = varieties, leaf_rotation=90, leaf_font_size=12)\n",
    "plt.show()"
   ]
  },
  {
   "cell_type": "markdown",
   "id": "e4595624",
   "metadata": {},
   "source": [
    "### Extracting the cluster labels"
   ]
  },
  {
   "cell_type": "code",
   "execution_count": 676,
   "id": "a080b858",
   "metadata": {},
   "outputs": [],
   "source": [
    "# Perform the necessary imports\n",
    "from scipy.cluster.hierarchy import fcluster"
   ]
  },
  {
   "cell_type": "code",
   "execution_count": 677,
   "id": "6b5c54dd",
   "metadata": {},
   "outputs": [],
   "source": [
    "# Use fcluster to extract labels: labels_fcluster\n",
    "labels_fcluster = fcluster(mergings, criterion='distance', t=6)"
   ]
  },
  {
   "cell_type": "code",
   "execution_count": 678,
   "id": "c9effe24",
   "metadata": {},
   "outputs": [],
   "source": [
    "# Create a DataFrame with labels and varieties as columns: df\n",
    "df = pd.DataFrame({'labels': labels_fcluster, 'varieties': varieties})"
   ]
  },
  {
   "cell_type": "code",
   "execution_count": 679,
   "id": "fd07915e",
   "metadata": {},
   "outputs": [],
   "source": [
    "# Create crosstab: ct\n",
    "ct = pd.crosstab(df['labels'], df['varieties'])"
   ]
  },
  {
   "cell_type": "code",
   "execution_count": 680,
   "id": "cafe7224",
   "metadata": {},
   "outputs": [
    {
     "data": {
      "text/html": [
       "<div>\n",
       "<style scoped>\n",
       "    .dataframe tbody tr th:only-of-type {\n",
       "        vertical-align: middle;\n",
       "    }\n",
       "\n",
       "    .dataframe tbody tr th {\n",
       "        vertical-align: top;\n",
       "    }\n",
       "\n",
       "    .dataframe thead th {\n",
       "        text-align: right;\n",
       "    }\n",
       "</style>\n",
       "<table border=\"1\" class=\"dataframe\">\n",
       "  <thead>\n",
       "    <tr style=\"text-align: right;\">\n",
       "      <th>varieties</th>\n",
       "      <th>Canadian wheat</th>\n",
       "      <th>Kama wheat</th>\n",
       "      <th>Rosa wheat</th>\n",
       "    </tr>\n",
       "    <tr>\n",
       "      <th>labels</th>\n",
       "      <th></th>\n",
       "      <th></th>\n",
       "      <th></th>\n",
       "    </tr>\n",
       "  </thead>\n",
       "  <tbody>\n",
       "    <tr>\n",
       "      <th>1</th>\n",
       "      <td>13</td>\n",
       "      <td>4</td>\n",
       "      <td>0</td>\n",
       "    </tr>\n",
       "    <tr>\n",
       "      <th>2</th>\n",
       "      <td>1</td>\n",
       "      <td>0</td>\n",
       "      <td>13</td>\n",
       "    </tr>\n",
       "    <tr>\n",
       "      <th>3</th>\n",
       "      <td>0</td>\n",
       "      <td>10</td>\n",
       "      <td>1</td>\n",
       "    </tr>\n",
       "  </tbody>\n",
       "</table>\n",
       "</div>"
      ],
      "text/plain": [
       "varieties  Canadian wheat  Kama wheat  Rosa wheat\n",
       "labels                                           \n",
       "1                      13           4           0\n",
       "2                       1           0          13\n",
       "3                       0          10           1"
      ]
     },
     "execution_count": 680,
     "metadata": {},
     "output_type": "execute_result"
    }
   ],
   "source": [
    "# Display ct\n",
    "ct"
   ]
  },
  {
   "cell_type": "markdown",
   "id": "b3dbccf1",
   "metadata": {},
   "source": [
    "# t-SNE for 2-dimensional maps\n",
    "<p><b>t-SNE stands for \"t-distributed stochastic neighbor embedding\" and available in <u>sklearn</u>\n",
    "<ol>\n",
    "    <li>It maps samples from their high-dimensional space into a 2- or 3-dimensional space so they can visualized</li> \n",
    "    <li>While some distortion is inevitable, t-SNE does a great job of approximately representing the distances between the samples.</li>\n",
    "    <li>t-SNE is an invaluable visual aid for understanding a dataset.</li>\n",
    "    </ol>\n",
    "    </b></p>"
   ]
  },
  {
   "cell_type": "markdown",
   "id": "d98b62d8",
   "metadata": {},
   "source": [
    "### t-SNE in sklearn"
   ]
  },
  {
   "cell_type": "code",
   "execution_count": 681,
   "id": "36db7628",
   "metadata": {},
   "outputs": [],
   "source": [
    "iris_samples = iris.data"
   ]
  },
  {
   "cell_type": "code",
   "execution_count": 682,
   "id": "de386a95",
   "metadata": {},
   "outputs": [],
   "source": [
    "# Perform the necessary imports\n",
    "from sklearn.manifold import TSNE"
   ]
  },
  {
   "cell_type": "code",
   "execution_count": 683,
   "id": "a975a77d",
   "metadata": {},
   "outputs": [],
   "source": [
    "model_tsne = TSNE(learning_rate=100)"
   ]
  },
  {
   "cell_type": "code",
   "execution_count": 684,
   "id": "607ce5fc",
   "metadata": {},
   "outputs": [],
   "source": [
    "transformed = model_tsne.fit_transform(iris_samples)"
   ]
  },
  {
   "cell_type": "code",
   "execution_count": 685,
   "id": "643e4342",
   "metadata": {},
   "outputs": [],
   "source": [
    "x = transformed[:,0]\n",
    "y = transformed[:,1]"
   ]
  },
  {
   "cell_type": "code",
   "execution_count": 686,
   "id": "6e1b0c17",
   "metadata": {},
   "outputs": [
    {
     "data": {
      "image/png": "[encoded data removed]",
      "text/plain": [
       "<Figure size 432x288 with 1 Axes>"
      ]
     },
     "metadata": {},
     "output_type": "display_data"
    }
   ],
   "source": [
    "_ = sns.scatterplot(x = x, y = y, hue=iris.target, palette='deep')\n",
    "_ = plt.legend(loc='upper right')\n",
    "_ = plt.show()"
   ]
  },
  {
   "cell_type": "markdown",
   "id": "19f46323",
   "metadata": {},
   "source": [
    "### t-SNE has only fit_transform()\n",
    "<o>\n",
    "    <li>Has a fit_transform() method</li>\n",
    "    <li>Simultaneously ,ts the model and transforms the data</li>\n",
    "    <li>Has no separate fit() or transform() methods</li>\n",
    "    <li>Can't extend the map to include new data samples</li>\n",
    "    <li>Must start over each time!</li>\n",
    "</o>\n",
    "\n",
    "### t-SNE learning rate\n",
    "<o>\n",
    "    <li>Choose learning rate for the dataset</li>\n",
    "    <li>Wrong choice: points bunch together</li>\n",
    "    <li>Try values between 50 and 200</li>\n",
    "</o>\n",
    "\n",
    "### Different every time\n",
    "<p><b><u>t-SNE features are different every time</u></b></p>"
   ]
  },
  {
   "cell_type": "markdown",
   "id": "86543fb2",
   "metadata": {},
   "source": [
    "# Visualizing the PCA transformation"
   ]
  },
  {
   "attachments": {
    "Capture.JPG": {
     "image/jpeg": "[encoded data removed]"
    }
   },
   "cell_type": "markdown",
   "id": "410a033a",
   "metadata": {},
   "source": [
    "### Dimension Reduction\n",
    "<p><b>Dimension reduction finds patterns in data, and uses these patterns to re-express it in a compressed form. This makes subsequent computation with the data much more efficient, and this can be a big deal in a world of big datasets. <u>However, the most important function of dimension reduction is to reduce a dataset to its \"bare bones\", discarding noisy features that cause big problems for supervised learning tasks like regression and classification.</u> In many real-world applications, it's dimension reduction that makes prediction possible.</b></p>\n",
    "\n",
    "### PCA aligns data with axes\n",
    "<p></p>\n",
    "<o>\n",
    "    <li>Rotates data samples to be aligned with axes</li>\n",
    "    <li>Shifts data samples so they have mean 0</li>\n",
    "    <li>No information is lost</li>\n",
    "</o>\n",
    "\n",
    "\n",
    "\n",
    "### PCA features\n",
    "<p></p>\n",
    "<o>\n",
    "    <li>Rows of transformed correspond to samples</li>\n",
    "    <li>Columns of transformed are the \"PCA features\"</li>\n",
    "    <li>Row gives PCA feature values of corresponding sample</li>\n",
    " </o>\n",
    "<p></p>\n",
    "\n",
    "### PCA features are not correlated\n",
    "<p></p>\n",
    "\n",
    "<o>\n",
    "    <li>Features of dataset are often correlated, e.g. total_phenols and od280</li>\n",
    "    <li>PCA aligns the data with axes</li>\n",
    "    <li>Resulting PCA features are not linearly correlated (\"decorrelation\")</li>\n",
    " </o>\n",
    "\n",
    "![Capture.JPG](attachment:Capture.JPG)"
   ]
  },
  {
   "cell_type": "markdown",
   "id": "4f621e18",
   "metadata": {},
   "source": [
    "### Correlated data in nature"
   ]
  },
  {
   "cell_type": "code",
   "execution_count": 687,
   "id": "9c33f3dd",
   "metadata": {},
   "outputs": [],
   "source": [
    "# Perform the necessary imports\n",
    "from scipy.stats import pearsonr"
   ]
  },
  {
   "cell_type": "code",
   "execution_count": 688,
   "id": "709619b8",
   "metadata": {},
   "outputs": [],
   "source": [
    "# Assign petal length and petal width\n",
    "length = iris.data[:,2]\n",
    "width = iris.data[:,3]"
   ]
  },
  {
   "cell_type": "code",
   "execution_count": 689,
   "id": "06483973",
   "metadata": {},
   "outputs": [
    {
     "data": {
      "image/png": "[encoded data removed]",
      "text/plain": [
       "<Figure size 432x288 with 1 Axes>"
      ]
     },
     "metadata": {},
     "output_type": "display_data"
    }
   ],
   "source": [
    "# Scatter plot: Length Vs Width\n",
    "_ = sns.scatterplot(x = length, y = width)\n",
    "_ = plt.axis('equal')\n",
    "_ = plt.show()"
   ]
  },
  {
   "cell_type": "code",
   "execution_count": 690,
   "id": "dad3ffce",
   "metadata": {},
   "outputs": [],
   "source": [
    "# Calculate the Pearson correlation\n",
    "correlation, pvalue = pearsonr(length, width)"
   ]
  },
  {
   "cell_type": "code",
   "execution_count": 691,
   "id": "21701f6e",
   "metadata": {},
   "outputs": [
    {
     "name": "stdout",
     "output_type": "stream",
     "text": [
      "0.9806099581999909\n"
     ]
    }
   ],
   "source": [
    "# Display the correlation\n",
    "print(correlation)"
   ]
  },
  {
   "cell_type": "markdown",
   "id": "0295e1e8",
   "metadata": {},
   "source": [
    "### Decorrelating the iris measurements with PCA"
   ]
  },
  {
   "cell_type": "code",
   "execution_count": 692,
   "id": "7f609bc6",
   "metadata": {},
   "outputs": [],
   "source": [
    "iris_meas = zip(iris.data[:,2], iris.data[:,3])"
   ]
  },
  {
   "cell_type": "code",
   "execution_count": 693,
   "id": "ba99b9ed",
   "metadata": {},
   "outputs": [],
   "source": [
    "iris_meas = np.array(list(iris_meas))"
   ]
  },
  {
   "cell_type": "code",
   "execution_count": 694,
   "id": "bc660b3a",
   "metadata": {},
   "outputs": [],
   "source": [
    "# Import PCA\n",
    "from sklearn.decomposition import PCA"
   ]
  },
  {
   "cell_type": "code",
   "execution_count": 695,
   "id": "fce43b36",
   "metadata": {},
   "outputs": [],
   "source": [
    "# Create PCA instance: model\n",
    "model_pca = PCA()"
   ]
  },
  {
   "cell_type": "code",
   "execution_count": 696,
   "id": "7c26d712",
   "metadata": {},
   "outputs": [],
   "source": [
    "# Apply the fit_transform method of model to iris samples: pca_features\n",
    "pca_features = model_pca.fit_transform(iris_meas)"
   ]
  },
  {
   "cell_type": "code",
   "execution_count": 697,
   "id": "0cefeba4",
   "metadata": {},
   "outputs": [],
   "source": [
    "# Assign petal length and petal width\n",
    "length_de = pca_features[:,0]\n",
    "width_de = pca_features[:,1]"
   ]
  },
  {
   "cell_type": "code",
   "execution_count": 698,
   "id": "4a9f5a47",
   "metadata": {},
   "outputs": [
    {
     "data": {
      "image/png": "[encoded data removed]",
      "text/plain": [
       "<Figure size 432x288 with 1 Axes>"
      ]
     },
     "metadata": {},
     "output_type": "display_data"
    }
   ],
   "source": [
    "# Scatter plot: Length Vs Width\n",
    "_ = sns.scatterplot(x = length_de, y = width_de)\n",
    "_ = plt.axis('equal')\n",
    "_ = plt.show()"
   ]
  },
  {
   "cell_type": "markdown",
   "id": "ede574a7",
   "metadata": {},
   "source": [
    "### Pearson correlation\n",
    "\n",
    "<p></p>\n",
    "<o>\n",
    "    <li>Measures linear correlation of features</li>\n",
    "    <li>Value between -1 and 1</li>\n",
    "    <li>Value of 0 means no linear correlation</li>\n",
    "</o>"
   ]
  },
  {
   "cell_type": "code",
   "execution_count": 699,
   "id": "0640d49f",
   "metadata": {},
   "outputs": [
    {
     "name": "stdout",
     "output_type": "stream",
     "text": [
      "2.6538492190628267e-17\n"
     ]
    }
   ],
   "source": [
    "# Calculate the Pearson correlation \n",
    "correlation, pvalue = pearsonr(length_de, width_de)\n",
    "\n",
    "# Display the correlation\n",
    "print(correlation)"
   ]
  },
  {
   "cell_type": "markdown",
   "id": "82391385",
   "metadata": {},
   "source": [
    "### Principal components\n",
    "\n",
    "<p></p>\n",
    "<o>\n",
    "    <li> \"Principal components\" = directions of variance</li>\n",
    "    <li>PCA aligns principal components with the axes</li>\n",
    "    <li>Available as components_ attribute pf PCA object</li>\n",
    "    <li>Each row defines displacement from mean</li>\n",
    "</o>"
   ]
  },
  {
   "cell_type": "code",
   "execution_count": 700,
   "id": "725a35ff",
   "metadata": {},
   "outputs": [
    {
     "name": "stdout",
     "output_type": "stream",
     "text": [
      "[[ 0.92648018  0.37634356]\n",
      " [-0.37634356  0.92648018]]\n"
     ]
    }
   ],
   "source": [
    "print(model_pca.components_)"
   ]
  },
  {
   "attachments": {
    "Capture.JPG": {
     "image/jpeg": "[encoded data removed]"
    }
   },
   "cell_type": "markdown",
   "id": "9747c9c2",
   "metadata": {},
   "source": [
    "# Intrinsic dimension\n",
    "\n",
    "### Intrinsic dimension of a flight path\n",
    "\n",
    "<p></p>\n",
    "\n",
    "![Capture.JPG](attachment:Capture.JPG)\n",
    "\n",
    "<ol>\n",
    "    <li>2 features: longitude and latitude at points along a flight path</li>\n",
    "    <li>Dataset appears to be 2-dimensional</li>\n",
    "    <li>But can approximate using one feature: displacement along flight path</li>\n",
    "    <li>Is intrinsically 1-dimensional</li>\n",
    "</ol>\n",
    "\n",
    "<p><b>\n",
    "<ol>\n",
    "    <li>Intrinsic dimension = number of features needed to approximate the dataset</li>\n",
    "    <li>Essential idea behind dimension reduction</li>\n",
    "    <li>What is the most compact representation of the samples?</li>\n",
    "    <li>Can be detected with PCA</li>\n",
    "    </ol>\n",
    "    </b></p>"
   ]
  },
  {
   "cell_type": "markdown",
   "id": "981e6050",
   "metadata": {},
   "source": [
    "### The first principal component\n",
    "<p><b>The first principal component of the data is the direction in which the data varies the most.</b></p>"
   ]
  },
  {
   "cell_type": "code",
   "execution_count": 701,
   "id": "fb671a45",
   "metadata": {},
   "outputs": [],
   "source": [
    "# Create a PCA instance: model\n",
    "model_in = PCA()"
   ]
  },
  {
   "cell_type": "code",
   "execution_count": 702,
   "id": "6de98ea4",
   "metadata": {},
   "outputs": [],
   "source": [
    "# Fit model to iris samples\n",
    "points = model_in.fit(iris_meas)"
   ]
  },
  {
   "cell_type": "code",
   "execution_count": 703,
   "id": "a3c0b93a",
   "metadata": {},
   "outputs": [],
   "source": [
    "# Get the mean of the grain samples: mean\n",
    "mean = points.mean_"
   ]
  },
  {
   "cell_type": "code",
   "execution_count": 704,
   "id": "77658d92",
   "metadata": {},
   "outputs": [],
   "source": [
    "# Get the first principal component: first_pc\n",
    "first_pc = model_in.components_[0]"
   ]
  },
  {
   "cell_type": "code",
   "execution_count": 705,
   "id": "7802583d",
   "metadata": {},
   "outputs": [
    {
     "data": {
      "image/png": "[encoded data removed]",
      "text/plain": [
       "<Figure size 432x288 with 1 Axes>"
      ]
     },
     "metadata": {},
     "output_type": "display_data"
    }
   ],
   "source": [
    "# Make a scatter plot of the untransformed iris (Petal length & Petal width)\n",
    "sns.scatterplot(x=iris.data[:,2], y=iris.data[:,3])\n",
    "\n",
    "# Plot first_pc as an arrow, starting at mean\n",
    "plt.arrow(mean[0], mean[1], first_pc[0], first_pc[1], color='red', width=0.04)\n",
    "\n",
    "# Keep axes on same scale\n",
    "plt.axis('equal')\n",
    "plt.show()"
   ]
  },
  {
   "cell_type": "markdown",
   "id": "324497f4",
   "metadata": {},
   "source": [
    "# Variance of the PCA features\n",
    "<p><b>Let's see Piedmont Wines data and apply PCA to find intrinsic dimensions</b></p>"
   ]
  },
  {
   "cell_type": "code",
   "execution_count": 706,
   "id": "74f72def",
   "metadata": {},
   "outputs": [],
   "source": [
    "# Perform the necessary imports\n",
    "from sklearn.preprocessing import StandardScaler\n",
    "from sklearn.pipeline import make_pipeline"
   ]
  },
  {
   "cell_type": "code",
   "execution_count": 707,
   "id": "5e49e73b",
   "metadata": {},
   "outputs": [
    {
     "name": "stdout",
     "output_type": "stream",
     "text": [
      "<class 'pandas.core.frame.DataFrame'>\n",
      "RangeIndex: 178 entries, 0 to 177\n",
      "Data columns (total 15 columns):\n",
      " #   Column                Non-Null Count  Dtype  \n",
      "---  ------                --------------  -----  \n",
      " 0   class_label           178 non-null    int64  \n",
      " 1   class_name            178 non-null    object \n",
      " 2   alcohol               178 non-null    float64\n",
      " 3   malic_acid            178 non-null    float64\n",
      " 4   ash                   178 non-null    float64\n",
      " 5   alcalinity_of_ash     178 non-null    float64\n",
      " 6   magnesium             178 non-null    int64  \n",
      " 7   total_phenols         178 non-null    float64\n",
      " 8   flavanoids            178 non-null    float64\n",
      " 9   nonflavanoid_phenols  178 non-null    float64\n",
      " 10  proanthocyanins       178 non-null    float64\n",
      " 11  color_intensity       178 non-null    float64\n",
      " 12  hue                   178 non-null    float64\n",
      " 13  od280                 178 non-null    float64\n",
      " 14  proline               178 non-null    int64  \n",
      "dtypes: float64(11), int64(3), object(1)\n",
      "memory usage: 21.0+ KB\n"
     ]
    }
   ],
   "source": [
    "wines_df.info()"
   ]
  },
  {
   "cell_type": "code",
   "execution_count": 708,
   "id": "5c9549b3",
   "metadata": {},
   "outputs": [
    {
     "data": {
      "text/plain": [
       "(178, 15)"
      ]
     },
     "execution_count": 708,
     "metadata": {},
     "output_type": "execute_result"
    }
   ],
   "source": [
    "wines_df.shape"
   ]
  },
  {
   "cell_type": "code",
   "execution_count": 709,
   "id": "d430cad1",
   "metadata": {},
   "outputs": [],
   "source": [
    "# Create scaler: scaler\n",
    "scaler_in = StandardScaler()"
   ]
  },
  {
   "cell_type": "code",
   "execution_count": 710,
   "id": "848fc9ea",
   "metadata": {},
   "outputs": [],
   "source": [
    "# Create a PCA instance: pca\n",
    "pca_wine = PCA()"
   ]
  },
  {
   "cell_type": "code",
   "execution_count": 711,
   "id": "cdfb80a8",
   "metadata": {},
   "outputs": [],
   "source": [
    "# Create pipeline: pipeline\n",
    "pipeline = make_pipeline(scaler_in, pca_wine)"
   ]
  },
  {
   "cell_type": "code",
   "execution_count": 712,
   "id": "6c94d132",
   "metadata": {},
   "outputs": [
    {
     "data": {
      "text/plain": [
       "Pipeline(steps=[('standardscaler', StandardScaler()), ('pca', PCA())])"
      ]
     },
     "execution_count": 712,
     "metadata": {},
     "output_type": "execute_result"
    }
   ],
   "source": [
    "# Fit the pipeline to 'samples'\n",
    "pipeline.fit(wines_df.drop(columns=['class_name']).values)"
   ]
  },
  {
   "cell_type": "code",
   "execution_count": 713,
   "id": "48e5faf1",
   "metadata": {},
   "outputs": [
    {
     "data": {
      "image/png": "[encoded data removed]",
      "text/plain": [
       "<Figure size 432x288 with 1 Axes>"
      ]
     },
     "metadata": {},
     "output_type": "display_data"
    }
   ],
   "source": [
    "# Plot the explained variances\n",
    "features = range(pca_wine.n_components_)\n",
    "plt.bar(features, pca_wine.explained_variance_)\n",
    "plt.xlabel('PCA feature')\n",
    "plt.ylabel('variance')\n",
    "plt.xticks(features)\n",
    "plt.show()"
   ]
  },
  {
   "cell_type": "markdown",
   "id": "0cf32cbd",
   "metadata": {},
   "source": [
    "<p><b>It looks like PCA features 0, 1 and 2 have significant variance</b></p>"
   ]
  },
  {
   "cell_type": "code",
   "execution_count": null,
   "id": "9bdb7869",
   "metadata": {},
   "outputs": [],
   "source": []
  },
  {
   "cell_type": "code",
   "execution_count": null,
   "id": "792e2079",
   "metadata": {},
   "outputs": [],
   "source": []
  },
  {
   "cell_type": "code",
   "execution_count": null,
   "id": "083694db",
   "metadata": {},
   "outputs": [],
   "source": []
  }
 ],
 "metadata": {
  "kernelspec": {
   "display_name": "Python 3 (ipykernel)",
   "language": "python",
   "name": "python3"
  },
  "language_info": {
   "codemirror_mode": {
    "name": "ipython",
    "version": 3
   },
   "file_extension": ".py",
   "mimetype": "text/x-python",
   "name": "python",
   "nbconvert_exporter": "python",
   "pygments_lexer": "ipython3",
   "version": "3.8.10"
  }
 },
 "nbformat": 4,
 "nbformat_minor": 5
}
